{
 "cells": [
  {
   "cell_type": "code",
   "execution_count": 1,
   "id": "25bcb7b8-851c-437a-80ff-d7a605d154d7",
   "metadata": {},
   "outputs": [],
   "source": [
    "# Last Updated: 7 April 2024, 5.42PM.\n",
    "# Copyright © 2024 Gedeon Koh All rights reserved.\n",
    "# No part of this publication may be reproduced, distributed, or transmitted in any form or by any means, including photocopying, recording, or other electronic or mechanical methods, without the prior written permission of the publisher, except in the case of brief quotations embodied in reviews and certain other non-commercial uses permitted by copyright law.\n",
    "# THE SOFTWARE IS PROVIDED “AS IS”, WITHOUT WARRANTY OF ANY KIND, EXPRESS OR IMPLIED, INCLUDING BUT NOT LIMITED TO THE WARRANTIES OF MERCHANTABILITY, FITNESS FOR A PARTICULAR PURPOSE AND NONINFRINGEMENT. IN NO EVENT SHALL THE AUTHOR OR COPYRIGHT HOLDER BE LIABLE FOR ANY CLAIM, DAMAGES OR OTHER LIABILITY, WHETHER IN AN ACTION OF CONTRACT, TORT OR OTHERWISE, ARISING FROM, OUT OF OR IN CONNECTION WITH THE SOFTWARE OR THE USE OR OTHER DEALINGS IN THE SOFTWARE.\n",
    "# Use of this program for pranks or any malicious activities is strictly prohibited. Any unauthorized use or dissemination of the results produced by this program is unethical and may result in legal consequences.\n",
    "# This code have been tested throughly. Please inform the operator or author if there is any mistake or error in the code.\n",
    "# Any damage, disciplinary actions or death from this material is not the publisher's or owner's fault.\n",
    "# Run and use this program this AT YOUR OWN RISK.\n",
    "# Version 0.1\n",
    "\n",
    "#Youtube Logo\n",
    "import turtle\n",
    "\n",
    "t = turtle.Turtle()\n",
    "screen = turtle.Screen()\n",
    "screen.bgcolor(\"black\")\n",
    "t.speed(1)\n",
    "t.color(\"red\")\n",
    "t.hideturtle()\n",
    "t.setheading(90)\n",
    "t.begin_fill()\n",
    "t.fillcolor(\"red\")\n",
    "for i in range(2):\n",
    "    t.forward(80)\n",
    "    t.circle(-10,90)\n",
    "    t.fd(120)\n",
    "    t.circle(-10,90)\n",
    "t.end_fill()\n",
    "t.up()\n",
    "t.goto(50,15)\n",
    "t.down()\n",
    "t.color(\"white\")\n",
    "t.begin_fill()\n",
    "t.fillcolor(\"white\")\n",
    "for i in range(3):\n",
    "    t.fd(50)\n",
    "    t.right(120)\n",
    "t.end_fill()\n",
    "turtle.done()"
   ]
  }
 ],
 "metadata": {
  "kernelspec": {
   "display_name": "Python 3 (ipykernel)",
   "language": "python",
   "name": "python3"
  },
  "language_info": {
   "codemirror_mode": {
    "name": "ipython",
    "version": 3
   },
   "file_extension": ".py",
   "mimetype": "text/x-python",
   "name": "python",
   "nbconvert_exporter": "python",
   "pygments_lexer": "ipython3",
   "version": "3.12.2"
  }
 },
 "nbformat": 4,
 "nbformat_minor": 5
}
