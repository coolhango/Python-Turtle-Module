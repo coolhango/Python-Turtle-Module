{
 "cells": [
  {
   "cell_type": "code",
   "execution_count": 1,
   "id": "77bf4829-9635-4973-a5ca-e469697209f0",
   "metadata": {},
   "outputs": [
    {
     "ename": "TurtleGraphicsError",
     "evalue": "stretch_wid/stretch_len must not be zero",
     "output_type": "error",
     "traceback": [
      "\u001b[0;31m---------------------------------------------------------------------------\u001b[0m",
      "\u001b[0;31mTurtleGraphicsError\u001b[0m                       Traceback (most recent call last)",
      "Cell \u001b[0;32mIn[1], line 129\u001b[0m\n\u001b[1;32m    127\u001b[0m food\u001b[38;5;241m.\u001b[39mshape(\u001b[38;5;124m\"\u001b[39m\u001b[38;5;124mcircle\u001b[39m\u001b[38;5;124m\"\u001b[39m)\n\u001b[1;32m    128\u001b[0m food\u001b[38;5;241m.\u001b[39mcolor(\u001b[38;5;124m\"\u001b[39m\u001b[38;5;124mred\u001b[39m\u001b[38;5;124m\"\u001b[39m)\n\u001b[0;32m--> 129\u001b[0m \u001b[43mfood\u001b[49m\u001b[38;5;241;43m.\u001b[39;49m\u001b[43mshapesize\u001b[49m\u001b[43m(\u001b[49m\u001b[43mFOOD_SIZE\u001b[49m\u001b[43m \u001b[49m\u001b[38;5;241;43m/\u001b[39;49m\u001b[38;5;241;43m/\u001b[39;49m\u001b[43m \u001b[49m\u001b[38;5;241;43m20\u001b[39;49m\u001b[43m)\u001b[49m  \u001b[38;5;66;03m# Default size of turtle \"square\" shape is 20.\u001b[39;00m\n\u001b[1;32m    130\u001b[0m food\u001b[38;5;241m.\u001b[39mpenup()\n\u001b[1;32m    132\u001b[0m \u001b[38;5;66;03m# Event handlers\u001b[39;00m\n",
      "File \u001b[0;32m~/Library/jupyterlab-desktop/jlab_server/lib/python3.12/turtle.py:2861\u001b[0m, in \u001b[0;36mRawTurtle.shapesize\u001b[0;34m(self, stretch_wid, stretch_len, outline)\u001b[0m\n\u001b[1;32m   2859\u001b[0m     \u001b[38;5;28;01mreturn\u001b[39;00m stretch_wid, stretch_len, \u001b[38;5;28mself\u001b[39m\u001b[38;5;241m.\u001b[39m_outlinewidth\n\u001b[1;32m   2860\u001b[0m \u001b[38;5;28;01mif\u001b[39;00m stretch_wid \u001b[38;5;241m==\u001b[39m \u001b[38;5;241m0\u001b[39m \u001b[38;5;129;01mor\u001b[39;00m stretch_len \u001b[38;5;241m==\u001b[39m \u001b[38;5;241m0\u001b[39m:\n\u001b[0;32m-> 2861\u001b[0m     \u001b[38;5;28;01mraise\u001b[39;00m TurtleGraphicsError(\u001b[38;5;124m\"\u001b[39m\u001b[38;5;124mstretch_wid/stretch_len must not be zero\u001b[39m\u001b[38;5;124m\"\u001b[39m)\n\u001b[1;32m   2862\u001b[0m \u001b[38;5;28;01mif\u001b[39;00m stretch_wid \u001b[38;5;129;01mis\u001b[39;00m \u001b[38;5;129;01mnot\u001b[39;00m \u001b[38;5;28;01mNone\u001b[39;00m:\n\u001b[1;32m   2863\u001b[0m     \u001b[38;5;28;01mif\u001b[39;00m stretch_len \u001b[38;5;129;01mis\u001b[39;00m \u001b[38;5;28;01mNone\u001b[39;00m:\n",
      "\u001b[0;31mTurtleGraphicsError\u001b[0m: stretch_wid/stretch_len must not be zero"
     ]
    }
   ],
   "source": [
    "# Last Updated: 7 April 2024, 5.42PM.\n",
    "# Copyright © 2024 Gedeon Koh All rights reserved.\n",
    "# No part of this publication may be reproduced, distributed, or transmitted in any form or by any means, including photocopying, recording, or other electronic or mechanical methods, without the prior written permission of the publisher, except in the case of brief quotations embodied in reviews and certain other non-commercial uses permitted by copyright law.\n",
    "# THE SOFTWARE IS PROVIDED “AS IS”, WITHOUT WARRANTY OF ANY KIND, EXPRESS OR IMPLIED, INCLUDING BUT NOT LIMITED TO THE WARRANTIES OF MERCHANTABILITY, FITNESS FOR A PARTICULAR PURPOSE AND NONINFRINGEMENT. IN NO EVENT SHALL THE AUTHOR OR COPYRIGHT HOLDER BE LIABLE FOR ANY CLAIM, DAMAGES OR OTHER LIABILITY, WHETHER IN AN ACTION OF CONTRACT, TORT OR OTHERWISE, ARISING FROM, OUT OF OR IN CONNECTION WITH THE SOFTWARE OR THE USE OR OTHER DEALINGS IN THE SOFTWARE.\n",
    "# Use of this program for pranks or any malicious activities is strictly prohibited. Any unauthorized use or dissemination of the results produced by this program is unethical and may result in legal consequences.\n",
    "# This code have been tested throughly. Please inform the operator or author if there is any mistake or error in the code.\n",
    "# Any damage, disciplinary actions or death from this material is not the publisher's or owner's fault.\n",
    "# Run and use this program this AT YOUR OWN RISK.\n",
    "# Version 0.1\n",
    "\n",
    "# This Space is for you to experiment your codes\n",
    "# Start Typing Below :) ↓↓↓"
   ]
  }
 ],
 "metadata": {
  "kernelspec": {
   "display_name": "Python 3 (ipykernel)",
   "language": "python",
   "name": "python3"
  },
  "language_info": {
   "codemirror_mode": {
    "name": "ipython",
    "version": 3
   },
   "file_extension": ".py",
   "mimetype": "text/x-python",
   "name": "python",
   "nbconvert_exporter": "python",
   "pygments_lexer": "ipython3",
   "version": "3.12.2"
  }
 },
 "nbformat": 4,
 "nbformat_minor": 5
}
