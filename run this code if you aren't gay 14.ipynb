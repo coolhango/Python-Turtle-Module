{
 "cells": [
  {
   "cell_type": "code",
   "execution_count": 2,
   "id": "195a27cb-6cf4-4965-bf76-fe10c251c930",
   "metadata": {},
   "outputs": [
    {
     "ename": "Terminator",
     "evalue": "",
     "output_type": "error",
     "traceback": [
      "\u001b[0;31m---------------------------------------------------------------------------\u001b[0m",
      "\u001b[0;31mTclError\u001b[0m                                  Traceback (most recent call last)",
      "File \u001b[0;32m<string>:8\u001b[0m, in \u001b[0;36mgoto\u001b[0;34m(x, y)\u001b[0m\n",
      "File \u001b[0;32m~/Library/jupyterlab-desktop/jlab_server/lib/python3.12/turtle.py:1775\u001b[0m, in \u001b[0;36mTNavigator.goto\u001b[0;34m(self, x, y)\u001b[0m\n\u001b[1;32m   1774\u001b[0m \u001b[38;5;28;01melse\u001b[39;00m:\n\u001b[0;32m-> 1775\u001b[0m     \u001b[38;5;28;43mself\u001b[39;49m\u001b[38;5;241;43m.\u001b[39;49m\u001b[43m_goto\u001b[49m\u001b[43m(\u001b[49m\u001b[43mVec2D\u001b[49m\u001b[43m(\u001b[49m\u001b[43mx\u001b[49m\u001b[43m,\u001b[49m\u001b[43m \u001b[49m\u001b[43my\u001b[49m\u001b[43m)\u001b[49m\u001b[43m)\u001b[49m\n",
      "File \u001b[0;32m~/Library/jupyterlab-desktop/jlab_server/lib/python3.12/turtle.py:3248\u001b[0m, in \u001b[0;36mRawTurtle._goto\u001b[0;34m(self, end)\u001b[0m\n\u001b[1;32m   3247\u001b[0m \u001b[38;5;28;01mif\u001b[39;00m \u001b[38;5;28mself\u001b[39m\u001b[38;5;241m.\u001b[39m_drawing:\n\u001b[0;32m-> 3248\u001b[0m     \u001b[43mscreen\u001b[49m\u001b[38;5;241;43m.\u001b[39;49m\u001b[43m_drawline\u001b[49m\u001b[43m(\u001b[49m\u001b[38;5;28;43mself\u001b[39;49m\u001b[38;5;241;43m.\u001b[39;49m\u001b[43mdrawingLineItem\u001b[49m\u001b[43m,\u001b[49m\n\u001b[1;32m   3249\u001b[0m \u001b[43m                     \u001b[49m\u001b[43m(\u001b[49m\u001b[43mstart\u001b[49m\u001b[43m,\u001b[49m\u001b[43m \u001b[49m\u001b[38;5;28;43mself\u001b[39;49m\u001b[38;5;241;43m.\u001b[39;49m\u001b[43m_position\u001b[49m\u001b[43m)\u001b[49m\u001b[43m,\u001b[49m\n\u001b[1;32m   3250\u001b[0m \u001b[43m                     \u001b[49m\u001b[38;5;28;43mself\u001b[39;49m\u001b[38;5;241;43m.\u001b[39;49m\u001b[43m_pencolor\u001b[49m\u001b[43m,\u001b[49m\u001b[43m \u001b[49m\u001b[38;5;28;43mself\u001b[39;49m\u001b[38;5;241;43m.\u001b[39;49m\u001b[43m_pensize\u001b[49m\u001b[43m,\u001b[49m\u001b[43m \u001b[49m\u001b[43mtop\u001b[49m\u001b[43m)\u001b[49m\n\u001b[1;32m   3251\u001b[0m \u001b[38;5;28mself\u001b[39m\u001b[38;5;241m.\u001b[39m_update()\n",
      "File \u001b[0;32m~/Library/jupyterlab-desktop/jlab_server/lib/python3.12/turtle.py:539\u001b[0m, in \u001b[0;36mTurtleScreenBase._drawline\u001b[0;34m(self, lineitem, coordlist, fill, width, top)\u001b[0m\n\u001b[1;32m    538\u001b[0m         cl\u001b[38;5;241m.\u001b[39mappend(\u001b[38;5;241m-\u001b[39my \u001b[38;5;241m*\u001b[39m \u001b[38;5;28mself\u001b[39m\u001b[38;5;241m.\u001b[39myscale)\n\u001b[0;32m--> 539\u001b[0m     \u001b[38;5;28;43mself\u001b[39;49m\u001b[38;5;241;43m.\u001b[39;49m\u001b[43mcv\u001b[49m\u001b[38;5;241;43m.\u001b[39;49m\u001b[43mcoords\u001b[49m\u001b[43m(\u001b[49m\u001b[43mlineitem\u001b[49m\u001b[43m,\u001b[49m\u001b[43m \u001b[49m\u001b[38;5;241;43m*\u001b[39;49m\u001b[43mcl\u001b[49m\u001b[43m)\u001b[49m\n\u001b[1;32m    540\u001b[0m \u001b[38;5;28;01mif\u001b[39;00m fill \u001b[38;5;129;01mis\u001b[39;00m \u001b[38;5;129;01mnot\u001b[39;00m \u001b[38;5;28;01mNone\u001b[39;00m:\n",
      "File \u001b[0;32m<string>:1\u001b[0m, in \u001b[0;36mcoords\u001b[0;34m(self, *args, **kw)\u001b[0m\n",
      "File \u001b[0;32m~/Library/jupyterlab-desktop/jlab_server/lib/python3.12/tkinter/__init__.py:2840\u001b[0m, in \u001b[0;36mCanvas.coords\u001b[0;34m(self, *args)\u001b[0m\n\u001b[1;32m   2837\u001b[0m args \u001b[38;5;241m=\u001b[39m _flatten(args)\n\u001b[1;32m   2838\u001b[0m \u001b[38;5;28;01mreturn\u001b[39;00m [\u001b[38;5;28mself\u001b[39m\u001b[38;5;241m.\u001b[39mtk\u001b[38;5;241m.\u001b[39mgetdouble(x) \u001b[38;5;28;01mfor\u001b[39;00m x \u001b[38;5;129;01min\u001b[39;00m\n\u001b[1;32m   2839\u001b[0m                    \u001b[38;5;28mself\u001b[39m\u001b[38;5;241m.\u001b[39mtk\u001b[38;5;241m.\u001b[39msplitlist(\n\u001b[0;32m-> 2840\u001b[0m            \u001b[38;5;28;43mself\u001b[39;49m\u001b[38;5;241;43m.\u001b[39;49m\u001b[43mtk\u001b[49m\u001b[38;5;241;43m.\u001b[39;49m\u001b[43mcall\u001b[49m\u001b[43m(\u001b[49m\u001b[43m(\u001b[49m\u001b[38;5;28;43mself\u001b[39;49m\u001b[38;5;241;43m.\u001b[39;49m\u001b[43m_w\u001b[49m\u001b[43m,\u001b[49m\u001b[43m \u001b[49m\u001b[38;5;124;43m'\u001b[39;49m\u001b[38;5;124;43mcoords\u001b[39;49m\u001b[38;5;124;43m'\u001b[39;49m\u001b[43m)\u001b[49m\u001b[43m \u001b[49m\u001b[38;5;241;43m+\u001b[39;49m\u001b[43m \u001b[49m\u001b[43margs\u001b[49m\u001b[43m)\u001b[49m)]\n",
      "\u001b[0;31mTclError\u001b[0m: invalid command name \".!canvas\"",
      "\nDuring handling of the above exception, another exception occurred:\n",
      "\u001b[0;31mTerminator\u001b[0m                                Traceback (most recent call last)",
      "Cell \u001b[0;32mIn[2], line 42\u001b[0m\n\u001b[1;32m     38\u001b[0m         turtle\u001b[38;5;241m.\u001b[39mgoto(x, y)\n\u001b[1;32m     39\u001b[0m     turtle\u001b[38;5;241m.\u001b[39mend_fill()\n\u001b[0;32m---> 42\u001b[0m \u001b[43mlogo\u001b[49m\u001b[43m(\u001b[49m\u001b[43mcanvas1\u001b[49m\u001b[43m,\u001b[49m\u001b[43m \u001b[49m\u001b[43mcanvas1Goto\u001b[49m\u001b[43m)\u001b[49m\n\u001b[1;32m     43\u001b[0m logo(canvas2, canvas2Goto)\n\u001b[1;32m     44\u001b[0m logo(canvas3, canvas3Goto)\n",
      "Cell \u001b[0;32mIn[2], line 34\u001b[0m, in \u001b[0;36mlogo\u001b[0;34m(a, b)\u001b[0m\n\u001b[1;32m     32\u001b[0m \u001b[38;5;28;01mfor\u001b[39;00m i \u001b[38;5;129;01min\u001b[39;00m \u001b[38;5;28mrange\u001b[39m(\u001b[38;5;28mlen\u001b[39m(a[\u001b[38;5;241m0\u001b[39m])):\n\u001b[1;32m     33\u001b[0m     x, y \u001b[38;5;241m=\u001b[39m a[\u001b[38;5;241m0\u001b[39m][i]\n\u001b[0;32m---> 34\u001b[0m     \u001b[43mturtle\u001b[49m\u001b[38;5;241;43m.\u001b[39;49m\u001b[43mgoto\u001b[49m\u001b[43m(\u001b[49m\u001b[43mx\u001b[49m\u001b[43m,\u001b[49m\u001b[43m \u001b[49m\u001b[43my\u001b[49m\u001b[43m)\u001b[49m\n\u001b[1;32m     36\u001b[0m \u001b[38;5;28;01mfor\u001b[39;00m i \u001b[38;5;129;01min\u001b[39;00m \u001b[38;5;28mrange\u001b[39m(\u001b[38;5;28mlen\u001b[39m(a[\u001b[38;5;241m1\u001b[39m])):\n\u001b[1;32m     37\u001b[0m     x, y \u001b[38;5;241m=\u001b[39m a[\u001b[38;5;241m1\u001b[39m][i]\n",
      "File \u001b[0;32m<string>:12\u001b[0m, in \u001b[0;36mgoto\u001b[0;34m(x, y)\u001b[0m\n",
      "\u001b[0;31mTerminator\u001b[0m: "
     ]
    }
   ],
   "source": [
    "# Last Updated: 7 April 2024, 5.42PM.\n",
    "# Copyright © 2024 Gedeon Koh All rights reserved.\n",
    "# No part of this publication may be reproduced, distributed, or transmitted in any form or by any means, including photocopying, recording, or other electronic or mechanical methods, without the prior written permission of the publisher, except in the case of brief quotations embodied in reviews and certain other non-commercial uses permitted by copyright law.\n",
    "# THE SOFTWARE IS PROVIDED “AS IS”, WITHOUT WARRANTY OF ANY KIND, EXPRESS OR IMPLIED, INCLUDING BUT NOT LIMITED TO THE WARRANTIES OF MERCHANTABILITY, FITNESS FOR A PARTICULAR PURPOSE AND NONINFRINGEMENT. IN NO EVENT SHALL THE AUTHOR OR COPYRIGHT HOLDER BE LIABLE FOR ANY CLAIM, DAMAGES OR OTHER LIABILITY, WHETHER IN AN ACTION OF CONTRACT, TORT OR OTHERWISE, ARISING FROM, OUT OF OR IN CONNECTION WITH THE SOFTWARE OR THE USE OR OTHER DEALINGS IN THE SOFTWARE.\n",
    "# Use of this program for pranks or any malicious activities is strictly prohibited. Any unauthorized use or dissemination of the results produced by this program is unethical and may result in legal consequences.\n",
    "# This code have been tested throughly. Please inform the operator or author if there is any mistake or error in the code.\n",
    "# Any damage, disciplinary actions or death from this material is not the publisher's or owner's fault.\n",
    "# Run and use this program this AT YOUR OWN RISK.\n",
    "# Version 0.1\n",
    "\n",
    "#Ironman\n",
    "import turtle\n",
    "\n",
    "canvas1 = [[(-40, 120), (-70, 260), (-130, 230), (-170, 200), (-170, 100), (-160, 40), (-170, 10), (-150, -10), (-140, 10),\n",
    "           (-40, -20), (0, -20)],\n",
    "          [(0, -20), (40, -20), (140, 10), (150, -10), (170, 10), (160, 40), (170, 100), (170, 200), (130, 230), (70, 260),\n",
    "           (40, 120), (0, 120)]]\n",
    "canvas2 = [[(-40, -30), (-50, -40), (-100, -46), (-130, -40), (-176, 0), (-186, -30), (-186, -40), (-120, -170), (-110, -210),\n",
    "           (-80, -230), (-64, -210), (0, -210)],\n",
    "          [(0, -210), (64, -210), (80, -230), (110, -210), (120, -170), (186, -40), (186, -30), (176, 0), (130, -40),\n",
    "           (100, -46), (50, -40), (40, -30), (0, -30)]]\n",
    "canvas3 = [[(-60, -220), (-80, -240), (-110, -220), (-120, -250), (-90, -280), (-60, -260), (-30, -260), (-20, -250),\n",
    "           (0, -250)],\n",
    "          [(0, -250), (20, -250), (30, -260), (60, -260), (90, -280), (120, -250), (110, -220), (80, -240), (60, -220),\n",
    "           (0, -220)]]\n",
    "\n",
    "turtle.hideturtle()\n",
    "turtle.bgcolor('#ba161e')  # Dark Red\n",
    "turtle.setup(500, 600)\n",
    "canvas1Goto = (0, 120)\n",
    "canvas2Goto = (0, -30)\n",
    "canvas3Goto = (0, -220)\n",
    "turtle.speed(2)\n",
    "\n",
    "\n",
    "def logo(a, b):\n",
    "    turtle.penup()\n",
    "    turtle.goto(b)\n",
    "    turtle.pendown()\n",
    "    turtle.color('#fab104')  # Light Yellow\n",
    "    turtle.begin_fill()\n",
    "\n",
    "    for i in range(len(a[0])):\n",
    "        x, y = a[0][i]\n",
    "        turtle.goto(x, y)\n",
    "\n",
    "    for i in range(len(a[1])):\n",
    "        x, y = a[1][i]\n",
    "        turtle.goto(x, y)\n",
    "    turtle.end_fill()\n",
    "\n",
    "\n",
    "logo(canvas1, canvas1Goto)\n",
    "logo(canvas2, canvas2Goto)\n",
    "logo(canvas3, canvas3Goto)\n",
    "turtle.hideturtle()\n",
    "turtle.done()"
   ]
  }
 ],
 "metadata": {
  "kernelspec": {
   "display_name": "Python 3 (ipykernel)",
   "language": "python",
   "name": "python3"
  },
  "language_info": {
   "codemirror_mode": {
    "name": "ipython",
    "version": 3
   },
   "file_extension": ".py",
   "mimetype": "text/x-python",
   "name": "python",
   "nbconvert_exporter": "python",
   "pygments_lexer": "ipython3",
   "version": "3.12.2"
  }
 },
 "nbformat": 4,
 "nbformat_minor": 5
}
