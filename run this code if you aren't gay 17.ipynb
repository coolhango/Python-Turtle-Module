{
 "cells": [
  {
   "cell_type": "code",
   "execution_count": 1,
   "id": "225fbc16-fa6c-4aa6-8ebd-6dace5d2dd6b",
   "metadata": {},
   "outputs": [],
   "source": [
    "#Circle\n",
    "import turtle\n",
    "\n",
    "t = turtle.Turtle()\n",
    "\n",
    "turtle.Screen().bgcolor(\"#f9fafc\")\n",
    "t.color('blue')\n",
    "t.width(12)\n",
    "t.circle(50)"
   ]
  }
 ],
 "metadata": {
  "kernelspec": {
   "display_name": "Python 3 (ipykernel)",
   "language": "python",
   "name": "python3"
  },
  "language_info": {
   "codemirror_mode": {
    "name": "ipython",
    "version": 3
   },
   "file_extension": ".py",
   "mimetype": "text/x-python",
   "name": "python",
   "nbconvert_exporter": "python",
   "pygments_lexer": "ipython3",
   "version": "3.12.2"
  }
 },
 "nbformat": 4,
 "nbformat_minor": 5
}
