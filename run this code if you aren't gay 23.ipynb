{
 "cells": [
  {
   "cell_type": "code",
   "execution_count": 1,
   "id": "ecf4e581-43b3-426e-95cd-807b73211c99",
   "metadata": {},
   "outputs": [],
   "source": [
    "# Last Updated: 7 April 2024, 5.42PM.\n",
    "# Copyright © 2024 Gedeon Koh All rights reserved.\n",
    "# No part of this publication may be reproduced, distributed, or transmitted in any form or by any means, including photocopying, recording, or other electronic or mechanical methods, without the prior written permission of the publisher, except in the case of brief quotations embodied in reviews and certain other non-commercial uses permitted by copyright law.\n",
    "# THE SOFTWARE IS PROVIDED “AS IS”, WITHOUT WARRANTY OF ANY KIND, EXPRESS OR IMPLIED, INCLUDING BUT NOT LIMITED TO THE WARRANTIES OF MERCHANTABILITY, FITNESS FOR A PARTICULAR PURPOSE AND NONINFRINGEMENT. IN NO EVENT SHALL THE AUTHOR OR COPYRIGHT HOLDER BE LIABLE FOR ANY CLAIM, DAMAGES OR OTHER LIABILITY, WHETHER IN AN ACTION OF CONTRACT, TORT OR OTHERWISE, ARISING FROM, OUT OF OR IN CONNECTION WITH THE SOFTWARE OR THE USE OR OTHER DEALINGS IN THE SOFTWARE.\n",
    "# Use of this program for pranks or any malicious activities is strictly prohibited. Any unauthorized use or dissemination of the results produced by this program is unethical and may result in legal consequences.\n",
    "# This code have been tested throughly. Please inform the operator or author if there is any mistake or error in the code.\n",
    "# Any damage, disciplinary actions or death from this material is not the publisher's or owner's fault.\n",
    "# Run and use this program this AT YOUR OWN RISK.\n",
    "# Version 0.1\n",
    "\n",
    "#Rainbow 2\n",
    "import turtle\n",
    "\n",
    "sc = turtle.Screen()\n",
    "pen = turtle.Turtle()\n",
    "def semi_circle(col, rad, val):\n",
    "\tpen.color(col)\n",
    "\tpen.circle(rad, -180)\n",
    "\tpen.up()\n",
    "\tpen.setpos(val, 0)\n",
    "\tpen.down()\n",
    "\tpen.right(180)\n",
    "col = ['violet', 'indigo', 'blue',\n",
    "\t'green', 'yellow', 'orange', 'red']\n",
    "sc.setup(600, 600)\n",
    "sc.bgcolor('black')\n",
    "pen.right(90)\n",
    "pen.width(10)\n",
    "pen.speed(7)\n",
    "for i in range(7):\n",
    "\tsemi_circle(col[i], 10*(i + 8), -10*(i + 1))\n",
    "pen.hideturtle()\n",
    "turtle.done()"
   ]
  }
 ],
 "metadata": {
  "kernelspec": {
   "display_name": "Python 3 (ipykernel)",
   "language": "python",
   "name": "python3"
  },
  "language_info": {
   "codemirror_mode": {
    "name": "ipython",
    "version": 3
   },
   "file_extension": ".py",
   "mimetype": "text/x-python",
   "name": "python",
   "nbconvert_exporter": "python",
   "pygments_lexer": "ipython3",
   "version": "3.12.2"
  }
 },
 "nbformat": 4,
 "nbformat_minor": 5
}
