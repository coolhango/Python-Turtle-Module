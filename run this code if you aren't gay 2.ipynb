{
 "cells": [
  {
   "cell_type": "code",
   "execution_count": 3,
   "id": "b6143382-0f3a-4fa9-b1c0-463c17c7cabf",
   "metadata": {},
   "outputs": [],
   "source": [
    "# Last Updated: 7 April 2024, 5.42PM.\n",
    "# Copyright © 2024 Gedeon Koh All rights reserved.\n",
    "# No part of this publication may be reproduced, distributed, or transmitted in any form or by any means, including photocopying, recording, or other electronic or mechanical methods, without the prior written permission of the publisher, except in the case of brief quotations embodied in reviews and certain other non-commercial uses permitted by copyright law.\n",
    "# THE SOFTWARE IS PROVIDED “AS IS”, WITHOUT WARRANTY OF ANY KIND, EXPRESS OR IMPLIED, INCLUDING BUT NOT LIMITED TO THE WARRANTIES OF MERCHANTABILITY, FITNESS FOR A PARTICULAR PURPOSE AND NONINFRINGEMENT. IN NO EVENT SHALL THE AUTHOR OR COPYRIGHT HOLDER BE LIABLE FOR ANY CLAIM, DAMAGES OR OTHER LIABILITY, WHETHER IN AN ACTION OF CONTRACT, TORT OR OTHERWISE, ARISING FROM, OUT OF OR IN CONNECTION WITH THE SOFTWARE OR THE USE OR OTHER DEALINGS IN THE SOFTWARE.\n",
    "# Use of this program for pranks or any malicious activities is strictly prohibited. Any unauthorized use or dissemination of the results produced by this program is unethical and may result in legal consequences.\n",
    "# This code have been tested throughly. Please inform the operator or author if there is any mistake or error in the code.\n",
    "# Any damage, disciplinary actions or death from this material is not the publisher's or owner's fault.\n",
    "# Run and use this program this AT YOUR OWN RISK.\n",
    "# Version 0.1\n",
    "\n",
    "#Rainbow\n",
    "import turtle as t\n",
    "import colorsys\n",
    "\n",
    "t.speed(0)\n",
    "t.hideturtle()\n",
    "t.bgcolor(\"black\")\n",
    "t.setup(700,700)\n",
    "colors=49\n",
    "radius=300\n",
    "penwidth=20*7/colors\n",
    "hue=0\n",
    "\n",
    "def draw(x,y,r,pensize,color):\n",
    "    t.up()\n",
    "    t.goto(x+r,y)\n",
    "    t.down()\n",
    "    t.seth(90)\n",
    "    t.pensize(pensize)\n",
    "    t.pencolor(color)\n",
    "    t.circle(r,180)\n",
    "\n",
    "for i in range(colors):\n",
    "    (r,g,b)=colorsys.hsv_to_rgb(hue,1,1)\n",
    "    draw(0,-100,radius,penwidth,(r,g,b))\n",
    "    radius-=(penwidth-1)\n",
    "    hue+=0.9/colors"
   ]
  }
 ],
 "metadata": {
  "kernelspec": {
   "display_name": "Python 3 (ipykernel)",
   "language": "python",
   "name": "python3"
  },
  "language_info": {
   "codemirror_mode": {
    "name": "ipython",
    "version": 3
   },
   "file_extension": ".py",
   "mimetype": "text/x-python",
   "name": "python",
   "nbconvert_exporter": "python",
   "pygments_lexer": "ipython3",
   "version": "3.12.2"
  }
 },
 "nbformat": 4,
 "nbformat_minor": 5
}
